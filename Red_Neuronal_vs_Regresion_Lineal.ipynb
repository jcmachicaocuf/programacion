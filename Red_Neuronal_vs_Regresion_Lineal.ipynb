{
  "cells": [
    {
      "cell_type": "markdown",
      "metadata": {},
      "source": [
        "# \ud83e\udde0 Comparaci\u00f3n entre regresi\u00f3n lineal y red neuronal en PyTorch\n",
        "\n",
        "Este cuaderno permite visualizar c\u00f3mo una red neuronal puede ajustarse a datos simples, compar\u00e1ndola con una regresi\u00f3n lineal."
      ]
    },
    {
      "cell_type": "code",
      "execution_count": null,
      "metadata": {},
      "outputs": [],
      "source": [
        "# --- IMPORTAR LIBRER\u00cdAS ---\n",
        "import torch\n",
        "import torch.nn as nn\n",
        "import matplotlib.pyplot as plt"
      ]
    },
    {
      "cell_type": "code",
      "execution_count": null,
      "metadata": {},
      "outputs": [],
      "source": [
        "# --- DATOS SIMULADOS: Ingresos de helados seg\u00fan la temperatura ---\n",
        "temperaturas = torch.tensor([[15.], [18.], [21.], [24.], [27.], [30.], [33.], [36.]], dtype=torch.float32)\n",
        "ventas = torch.tensor([[120.], [150.], [180.], [200.], [240.], [280.], [310.], [330.]], dtype=torch.float32)\n",
        "\n",
        "# Visualizar datos\n",
        "plt.scatter(temperaturas, ventas, color='blue')\n",
        "plt.xlabel(\"Temperatura (\u00b0C)\")\n",
        "plt.ylabel(\"Ingresos ($)\")\n",
        "plt.title(\"Datos reales: Temperatura vs Ventas de Helados\")\n",
        "plt.grid(True)\n",
        "plt.show()"
      ]
    },
    {
      "cell_type": "markdown",
      "metadata": {},
      "source": [
        "## \ud83d\udcc8 Modelo 1: Regresi\u00f3n Lineal Simple"
      ]
    },
    {
      "cell_type": "code",
      "execution_count": null,
      "metadata": {},
      "outputs": [],
      "source": [
        "# Crear modelo de regresi\u00f3n lineal\n",
        "modelo_lineal = nn.Linear(1, 1)\n",
        "\n",
        "# Definir funci\u00f3n de p\u00e9rdida y optimizador\n",
        "criterio = nn.MSELoss()\n",
        "optimizador = torch.optim.SGD(modelo_lineal.parameters(), lr=0.001)\n",
        "\n",
        "# Entrenar el modelo\n",
        "for epoca in range(500):\n",
        "    predicciones = modelo_lineal(temperaturas)\n",
        "    loss = criterio(predicciones, ventas)\n",
        "    optimizador.zero_grad()\n",
        "    loss.backward()\n",
        "    optimizador.step()\n",
        "\n",
        "# Graficar resultados\n",
        "plt.scatter(temperaturas, ventas, label=\"Datos reales\")\n",
        "plt.plot(temperaturas, modelo_lineal(temperaturas).detach(), color='red', label=\"Regresi\u00f3n lineal\")\n",
        "plt.title(\"Ajuste del modelo lineal\")\n",
        "plt.xlabel(\"Temperatura (\u00b0C)\")\n",
        "plt.ylabel(\"Ingresos ($)\")\n",
        "plt.legend()\n",
        "plt.grid(True)\n",
        "plt.show()"
      ]
    },
    {
      "cell_type": "markdown",
      "metadata": {},
      "source": [
        "## \ud83e\udde0 Modelo 2: Red Neuronal Simple"
      ]
    },
    {
      "cell_type": "code",
      "execution_count": null,
      "metadata": {},
      "outputs": [],
      "source": [
        "# Crear red neuronal con 1 capa oculta\n",
        "modelo_nn = nn.Sequential(\n",
        "    nn.Linear(1, 10),\n",
        "    nn.ReLU(),\n",
        "    nn.Linear(10, 1)\n",
        ")\n",
        "\n",
        "# Nuevo optimizador\n",
        "optimizador_nn = torch.optim.Adam(modelo_nn.parameters(), lr=0.01)\n",
        "\n",
        "# Entrenar red neuronal\n",
        "for epoca in range(1000):\n",
        "    predicciones = modelo_nn(temperaturas)\n",
        "    loss = criterio(predicciones, ventas)\n",
        "    optimizador_nn.zero_grad()\n",
        "    loss.backward()\n",
        "    optimizador_nn.step()\n",
        "\n",
        "# Graficar resultados\n",
        "plt.scatter(temperaturas, ventas, label=\"Datos reales\")\n",
        "plt.plot(temperaturas, modelo_nn(temperaturas).detach(), color='green', label=\"Red neuronal\")\n",
        "plt.title(\"Ajuste de la red neuronal\")\n",
        "plt.xlabel(\"Temperatura (\u00b0C)\")\n",
        "plt.ylabel(\"Ingresos ($)\")\n",
        "plt.legend()\n",
        "plt.grid(True)\n",
        "plt.show()"
      ]
    },
    {
      "cell_type": "markdown",
      "metadata": {},
      "source": [
        "## \ud83e\uddea Experimentaci\u00f3n sugerida\n",
        "- Cambiar n\u00famero de neuronas ocultas\n",
        "- Probar distintas funciones de activaci\u00f3n (`ReLU`, `Sigmoid`, `Tanh`)\n",
        "- Cambiar optimizadores (`SGD`, `Adam`, etc.) y tasas de aprendizaje\n",
        "- Observar diferencias entre modelos"
      ]
    }
  ],
  "metadata": {
    "kernelspec": {
      "display_name": "Python 3",
      "language": "python",
      "name": "python3"
    },
    "language_info": {
      "name": "python",
      "version": "3.9"
    }
  },
  "nbformat": 4,
  "nbformat_minor": 5
}