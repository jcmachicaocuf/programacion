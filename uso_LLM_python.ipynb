{
  "nbformat": 4,
  "nbformat_minor": 0,
  "metadata": {
    "colab": {
      "provenance": [],
      "authorship_tag": "ABX9TyPTatBpV/qEYdSbbGzQG7BI",
      "include_colab_link": true
    },
    "kernelspec": {
      "name": "python3",
      "display_name": "Python 3"
    },
    "language_info": {
      "name": "python"
    }
  },
  "cells": [
    {
      "cell_type": "markdown",
      "metadata": {
        "id": "view-in-github",
        "colab_type": "text"
      },
      "source": [
        "<a href=\"https://colab.research.google.com/github/jcmachicaocuf/programacion/blob/main/uso_LLM_python.ipynb\" target=\"_parent\"><img src=\"https://colab.research.google.com/assets/colab-badge.svg\" alt=\"Open In Colab\"/></a>"
      ]
    },
    {
      "cell_type": "code",
      "source": [
        "import openai\n",
        "import os"
      ],
      "metadata": {
        "id": "QKcmGo37wse-"
      },
      "execution_count": 1,
      "outputs": []
    },
    {
      "cell_type": "code",
      "source": [
        "from openai import OpenAI\n",
        "from google.colab import userdata\n",
        "API_KEY = userdata.get('JCMV_2024_M05gf')\n",
        "client = OpenAI(api_key=API_KEY)"
      ],
      "metadata": {
        "id": "ThuOOgcEDMF5"
      },
      "execution_count": 2,
      "outputs": []
    },
    {
      "cell_type": "code",
      "source": [
        "instrucciones = \"Aqui se puede poner las instrucciones para el tipo de conocimiento que se quiera utilizar o el perfil\""
      ],
      "metadata": {
        "id": "nyHsB1yV3hru"
      },
      "execution_count": 3,
      "outputs": []
    },
    {
      "cell_type": "code",
      "source": [
        "formato_json = \"\"\"\n",
        "\n",
        "\n",
        "\"\"\""
      ],
      "metadata": {
        "id": "FdenEX-UTtwD"
      },
      "execution_count": null,
      "outputs": []
    },
    {
      "cell_type": "code",
      "source": [
        "texto_analisis = \" \""
      ],
      "metadata": {
        "id": "yXmDyinYBMy7"
      },
      "execution_count": null,
      "outputs": []
    },
    {
      "cell_type": "code",
      "source": [
        "def analisis(texto_analisis):\n",
        "  completion = client.chat.completions.create(\n",
        "      model=\"gpt-4o\",\n",
        "      messages=[\n",
        "          {\n",
        "              \"role\": \"developer\",\n",
        "              \"content\": instrucciones},\n",
        "          {\n",
        "              \"role\": \"user\",\n",
        "              \"content\": f\"Analiza en el texto {texto_analisis} generando una respuesta unicamente en el formato JSON siguiente: {formato_json}\"\n",
        "          },\n",
        "      ],\n",
        "  )\n",
        "\n",
        "  return completion.choices[0].message.content"
      ],
      "metadata": {
        "id": "X10shY9T0LB_"
      },
      "execution_count": null,
      "outputs": []
    }
  ]
}