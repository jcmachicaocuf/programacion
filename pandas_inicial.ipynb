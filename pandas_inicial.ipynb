{
  "nbformat": 4,
  "nbformat_minor": 0,
  "metadata": {
    "colab": {
      "provenance": [],
      "authorship_tag": "ABX9TyOKczlMLib0rft2Nam/F3r5",
      "include_colab_link": true
    },
    "kernelspec": {
      "name": "python3",
      "display_name": "Python 3"
    },
    "language_info": {
      "name": "python"
    }
  },
  "cells": [
    {
      "cell_type": "markdown",
      "metadata": {
        "id": "view-in-github",
        "colab_type": "text"
      },
      "source": [
        "<a href=\"https://colab.research.google.com/github/jcmachicaocuf/programacion/blob/main/pandas_inicial.ipynb\" target=\"_parent\"><img src=\"https://colab.research.google.com/assets/colab-badge.svg\" alt=\"Open In Colab\"/></a>"
      ]
    },
    {
      "cell_type": "code",
      "source": [
        "!pip install pandas openpyxl\n",
        "import pandas as pd"
      ],
      "metadata": {
        "id": "_xCXtGMat-a5"
      },
      "execution_count": null,
      "outputs": []
    },
    {
      "cell_type": "code",
      "execution_count": null,
      "metadata": {
        "id": "Xpa6E_ovttU0"
      },
      "outputs": [],
      "source": [
        "# --- Paso 1: Introducción a las Series de Pandas ---\n",
        "# Crear una Serie simple\n",
        "print(\"--- Paso 1: Introducción a las Series ---\")\n",
        "s = pd.Series([1, 3, 5, 7, 9])\n",
        "print(s)\n",
        "print(\"\\n\")\n",
        "\n",
        "# Acceder a elementos de una Serie\n",
        "print(\"Acceso a elementos de una Serie:\")\n",
        "print(s[0])\n",
        "print(s[:3])\n",
        "print(\"\\n\")"
      ]
    },
    {
      "cell_type": "code",
      "source": [
        "# --- Paso 2: Introducción a los DataFrames de Pandas ---\n",
        "# Crear un DataFrame simple a partir de un diccionario\n",
        "print(\"--- Paso 2: Introducción a los DataFrames ---\")\n",
        "data = {'columna1': [1, 2, 3, 4],\n",
        "        'columna2': ['A', 'B', 'C', 'D']}\n",
        "df = pd.DataFrame(data)\n",
        "print(df)\n",
        "print(\"\\n\")\n",
        "\n",
        "# Seleccionar columnas\n",
        "print(\"Seleccionar una columna:\")\n",
        "print(df['columna1'])\n",
        "print(\"\\n\")\n",
        "\n",
        "# Seleccionar múltiples columnas\n",
        "print(\"Seleccionar múltiples columnas:\")\n",
        "print(df[['columna1', 'columna2']])\n",
        "print(\"\\n\")\n",
        "\n",
        "# Seleccionar filas por índice\n",
        "print(\"Seleccionar filas por índice (iloc):\")\n",
        "print(df.iloc[0])\n",
        "print(df.iloc[1:3])\n",
        "print(\"\\n\")"
      ],
      "metadata": {
        "id": "ETFpbKLvuJ8O"
      },
      "execution_count": null,
      "outputs": []
    },
    {
      "cell_type": "code",
      "source": [
        "# --- Paso 3: Carga y Escritura de Datos ---\n",
        "print(\"--- Paso 3: Carga y Escritura de Datos ---\")\n",
        "\n",
        "# Crear un DataFrame de ejemplo\n",
        "data_carga = {'Nombre': ['Ana', 'Luis', 'María'],\n",
        "              'Edad': [28, 35, 24],\n",
        "              'Ciudad': ['Madrid', 'Barcelona', 'Sevilla']}\n",
        "df_carga = pd.DataFrame(data_carga)\n",
        "\n",
        "# Guardar a un archivo CSV\n",
        "df_carga.to_csv('ejemplo.csv', index=False)\n",
        "print(\"DataFrame guardado en ejemplo.csv\")\n",
        "print(\"\\n\")\n",
        "\n",
        "# Cargar desde un archivo CSV\n",
        "try:\n",
        "    df_csv = pd.read_csv('ejemplo.csv')\n",
        "    print(\"DataFrame cargado desde ejemplo.csv:\")\n",
        "    print(df_csv)\n",
        "    print(\"\\n\")\n",
        "except FileNotFoundError:\n",
        "    print(\"El archivo ejemplo.csv no fue encontrado.\")\n",
        "\n",
        "# Guardar a un archivo Excel\n",
        "df_carga.to_excel('ejemplo.xlsx', index=False)\n",
        "print(\"DataFrame guardado en ejemplo.xlsx\")\n",
        "print(\"\\n\")\n",
        "\n",
        "# Cargar desde un archivo Excel\n",
        "try:\n",
        "    df_excel = pd.read_excel('ejemplo.xlsx')\n",
        "    print(\"DataFrame cargado desde ejemplo.xlsx:\")\n",
        "    print(df_excel)\n",
        "    print(\"\\n\")\n",
        "except FileNotFoundError:\n",
        "    print(\"El archivo ejemplo.xlsx no fue encontrado.\")\n",
        "\n",
        "# Guardar a un archivo JSON\n",
        "df_carga.to_json('ejemplo.json', indent=2, orient='records')\n",
        "print(\"DataFrame guardado en ejemplo.json\")\n",
        "print(\"\\n\")\n",
        "\n",
        "# Cargar desde un archivo JSON\n",
        "try:\n",
        "    df_json = pd.read_json('ejemplo.json')\n",
        "    print(\"DataFrame cargado desde ejemplo.json:\")\n",
        "    print(df_json)\n",
        "    print(\"\\n\")\n",
        "except FileNotFoundError:\n",
        "    print(\"El archivo ejemplo.json no fue encontrado.\")\n"
      ],
      "metadata": {
        "id": "gOstwHFQuJ2F"
      },
      "execution_count": null,
      "outputs": []
    },
    {
      "cell_type": "code",
      "source": [
        "# --- Pasos adicionales sugeridos para continuar ---\n",
        "Explorar los datos cargados:\n",
        "print(df_txt.head())      # Mostrar las primeras filas\n",
        "print(df_txt.info())      # Información sobre las columnas y tipos de datos\n",
        "print(df_txt.describe())  # Estadísticas descriptivas para columnas numéricas\n",
        "\n",
        "# Selección condicional:\n",
        "print(df_txt[df_txt['Edad'] > 25])\n",
        "\n",
        "# Agrupación de datos:\n",
        "print(df_txt.groupby('Ciudad')['Edad'].mean())\n",
        "\n",
        "# Visualización (requiere matplotlib o seaborn)\n",
        "!pip install matplotlib seaborn\n",
        "import matplotlib.pyplot as plt\n",
        "df_txt['Edad'].hist()\n",
        "plt.show()"
      ],
      "metadata": {
        "id": "PmBqbBZMuJzf"
      },
      "execution_count": null,
      "outputs": []
    },
    {
      "cell_type": "code",
      "source": [
        "# Limpieza de datos:\n",
        "# Manejo de valores nulos (ej: df.dropna(), df.fillna())\n",
        "# Conversión de tipos de datos\n",
        "\n",
        "# Unión y combinación de DataFrames:\n",
        "# pd.merge(), pd.concat()"
      ],
      "metadata": {
        "id": "r5pJM5piuIR2"
      },
      "execution_count": null,
      "outputs": []
    }
  ]
}