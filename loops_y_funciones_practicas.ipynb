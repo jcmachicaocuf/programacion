{
  "cells": [
    {
      "cell_type": "markdown",
      "metadata": {
        "id": "view-in-github",
        "colab_type": "text"
      },
      "source": [
        "<a href=\"https://colab.research.google.com/github/jcmachicaocuf/programacion/blob/main/loops_y_funciones_practicas.ipynb\" target=\"_parent\"><img src=\"https://colab.research.google.com/assets/colab-badge.svg\" alt=\"Open In Colab\"/></a>"
      ]
    },
    {
      "cell_type": "markdown",
      "metadata": {
        "id": "cQ_Wp8Ep_ljh"
      },
      "source": [
        "# Introducción a Loops y Funciones en Python\n",
        "Este notebook te guiará por conceptos básicos de bucles y funciones en Python con ejemplos prácticos."
      ]
    },
    {
      "cell_type": "markdown",
      "metadata": {
        "id": "hxzzj77m_ljk"
      },
      "source": [
        "## Bucles (Loops)\n",
        "Los bucles nos permiten repetir acciones múltiples veces. En Python tenemos principalmente `for` y `while`."
      ]
    },
    {
      "cell_type": "code",
      "execution_count": null,
      "metadata": {
        "id": "1DwyYWs0_ljl"
      },
      "outputs": [],
      "source": [
        "# Usando un loop for para recorrer una lista\n",
        "frutas = ['manzana', 'banana', 'cereza']\n",
        "for fruta in frutas:\n",
        "    print(fruta)"
      ]
    },
    {
      "cell_type": "code",
      "execution_count": null,
      "metadata": {
        "id": "jjLB2Q0K_ljm"
      },
      "outputs": [],
      "source": [
        "# Usando un loop while para contar hasta 5\n",
        "contador = 1\n",
        "while contador <= 5:\n",
        "    print(contador)\n",
        "    contador += 1"
      ]
    },
    {
      "cell_type": "markdown",
      "metadata": {
        "id": "GMCbxzWu_ljm"
      },
      "source": [
        "## Ejercicio 1: Sumar todos los elementos de una lista usando un loop"
      ]
    },
    {
      "cell_type": "code",
      "execution_count": null,
      "metadata": {
        "id": "Umsq-2jE_ljm"
      },
      "outputs": [],
      "source": [
        "numeros = [1, 2, 3, 4, 5]\n",
        "suma = 0\n",
        "for numero in numeros:\n",
        "    suma += numero\n",
        "print(\"Suma total:\", suma)"
      ]
    },
    {
      "cell_type": "markdown",
      "metadata": {
        "id": "qGv4vmmZ_ljn"
      },
      "source": [
        "## Funciones en Python\n",
        "Las funciones nos permiten encapsular código para reutilizarlo fácilmente."
      ]
    },
    {
      "cell_type": "code",
      "execution_count": null,
      "metadata": {
        "id": "EyIOUSe9_ljn"
      },
      "outputs": [],
      "source": [
        "# Una función sin parámetros\n",
        "def saludar():\n",
        "    print(\"Hola, bienvenido a Python!\")\n",
        "\n",
        "saludar()"
      ]
    },
    {
      "cell_type": "code",
      "execution_count": null,
      "metadata": {
        "id": "v2_dLDvx_ljn"
      },
      "outputs": [],
      "source": [
        "# Una función con parámetros y retorno\n",
        "def sumar(a, b):\n",
        "    return a + b\n",
        "\n",
        "resultado = sumar(3, 4)\n",
        "print(\"Resultado de la suma:\", resultado)"
      ]
    },
    {
      "cell_type": "markdown",
      "metadata": {
        "id": "2D2E23gw_ljo"
      },
      "source": [
        "## Ejercicio 2: Calcular el promedio de una lista de números"
      ]
    },
    {
      "cell_type": "code",
      "execution_count": null,
      "metadata": {
        "id": "E7JLyorH_ljo"
      },
      "outputs": [],
      "source": [
        "def calcular_promedio(lista):\n",
        "    return sum(lista) / len(lista)\n",
        "\n",
        "notas = [85, 90, 78, 92]\n",
        "promedio = calcular_promedio(notas)\n",
        "print(\"Promedio:\", promedio)"
      ]
    },
    {
      "cell_type": "markdown",
      "metadata": {
        "id": "Jgk1UNCy_ljo"
      },
      "source": [
        "## Ejercicio 3: Función para verificar si un número es primo"
      ]
    },
    {
      "cell_type": "code",
      "execution_count": null,
      "metadata": {
        "id": "IXiuvb95_ljo"
      },
      "outputs": [],
      "source": [
        "def es_primo(n):\n",
        "    if n < 2:\n",
        "        return False\n",
        "    for i in range(2, int(n ** 0.5) + 1):\n",
        "        if n % i == 0:\n",
        "            return False\n",
        "    return True\n",
        "\n",
        "print(es_primo(7))  # True\n",
        "print(es_primo(10)) # False"
      ]
    }
  ],
  "metadata": {
    "kernelspec": {
      "display_name": "Python 3",
      "language": "python",
      "name": "python3"
    },
    "language_info": {
      "name": "python",
      "version": "3.10"
    },
    "colab": {
      "provenance": [],
      "include_colab_link": true
    }
  },
  "nbformat": 4,
  "nbformat_minor": 0
}