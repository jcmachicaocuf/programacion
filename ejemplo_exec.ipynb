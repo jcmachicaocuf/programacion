{
  "nbformat": 4,
  "nbformat_minor": 0,
  "metadata": {
    "colab": {
      "provenance": [],
      "authorship_tag": "ABX9TyNpudhoyHHIx0+P1t119tH0",
      "include_colab_link": true
    },
    "kernelspec": {
      "name": "python3",
      "display_name": "Python 3"
    },
    "language_info": {
      "name": "python"
    }
  },
  "cells": [
    {
      "cell_type": "markdown",
      "metadata": {
        "id": "view-in-github",
        "colab_type": "text"
      },
      "source": [
        "<a href=\"https://colab.research.google.com/github/jcmachicaocuf/programacion/blob/main/ejemplo_exec.ipynb\" target=\"_parent\"><img src=\"https://colab.research.google.com/assets/colab-badge.svg\" alt=\"Open In Colab\"/></a>"
      ]
    },
    {
      "cell_type": "code",
      "source": [
        "import pandas as pd\n",
        "df = pd.read_csv('https://raw.githubusercontent.com/datasciencedojo/datasets/master/titanic.csv')"
      ],
      "metadata": {
        "id": "n5I6YLM1HFKz"
      },
      "execution_count": 3,
      "outputs": []
    },
    {
      "cell_type": "code",
      "source": [
        "# Exploración básica del dataset\n",
        "print(df.shape)\n",
        "print(df.columns)\n",
        "print(df.info())"
      ],
      "metadata": {
        "colab": {
          "base_uri": "https://localhost:8080/"
        },
        "id": "yAb47nRiHHZy",
        "outputId": "b4024f00-60fd-446e-8dd1-b08eca24a014"
      },
      "execution_count": 4,
      "outputs": [
        {
          "output_type": "stream",
          "name": "stdout",
          "text": [
            "(891, 12)\n",
            "Index(['PassengerId', 'Survived', 'Pclass', 'Name', 'Sex', 'Age', 'SibSp',\n",
            "       'Parch', 'Ticket', 'Fare', 'Cabin', 'Embarked'],\n",
            "      dtype='object')\n",
            "<class 'pandas.core.frame.DataFrame'>\n",
            "RangeIndex: 891 entries, 0 to 890\n",
            "Data columns (total 12 columns):\n",
            " #   Column       Non-Null Count  Dtype  \n",
            "---  ------       --------------  -----  \n",
            " 0   PassengerId  891 non-null    int64  \n",
            " 1   Survived     891 non-null    int64  \n",
            " 2   Pclass       891 non-null    int64  \n",
            " 3   Name         891 non-null    object \n",
            " 4   Sex          891 non-null    object \n",
            " 5   Age          714 non-null    float64\n",
            " 6   SibSp        891 non-null    int64  \n",
            " 7   Parch        891 non-null    int64  \n",
            " 8   Ticket       891 non-null    object \n",
            " 9   Fare         891 non-null    float64\n",
            " 10  Cabin        204 non-null    object \n",
            " 11  Embarked     889 non-null    object \n",
            "dtypes: float64(2), int64(5), object(5)\n",
            "memory usage: 83.7+ KB\n",
            "None\n"
          ]
        }
      ]
    },
    {
      "cell_type": "code",
      "execution_count": null,
      "metadata": {
        "colab": {
          "base_uri": "https://localhost:8080/"
        },
        "id": "qIs_Q9UBGnVg",
        "outputId": "cecfcffc-ce57-4a07-95a3-316e7fab0e37"
      },
      "outputs": [
        {
          "output_type": "stream",
          "name": "stdout",
          "text": [
            "   Survived  Pclass     Sex   Age     Fare\n",
            "0         0       3    male  22.0   7.2500\n",
            "1         1       1  female  38.0  71.2833\n",
            "2         1       3  female  26.0   7.9250\n",
            "3         1       1  female  35.0  53.1000\n",
            "4         0       3    male  35.0   8.0500\n",
            "Edad promedio de sobrevivientes: 28.34\n",
            "\n",
            "Sobrevivientes por clase:\n",
            "Pclass\n",
            "1    136\n",
            "2     87\n",
            "3    119\n",
            "Name: Survived, dtype: int64\n"
          ]
        }
      ],
      "source": [
        "# Definir la consulta como una cadena de texto\n",
        "query = \"\"\"\n",
        "# Seleccionar las columnas 'Survived', 'Pclass', 'Sex', 'Age', 'Fare'\n",
        "selected_data = df[['Survived', 'Pclass', 'Sex', 'Age', 'Fare']]\n",
        "\n",
        "# Mostrar las primeras filas del resultado\n",
        "print(selected_data.head())\n",
        "\n",
        "# Calcular el promedio de edad de los sobrevivientes\n",
        "avg_age_survived = selected_data[selected_data['Survived'] == 1]['Age'].mean()\n",
        "print(f\"Edad promedio de sobrevivientes: {avg_age_survived:.2f}\")\n",
        "\n",
        "# Calcular el número de sobrevivientes por clase\n",
        "survivors_by_class = selected_data.groupby('Pclass')['Survived'].sum()\n",
        "print(\"\\\\nSobrevivientes por clase:\")\n",
        "print(survivors_by_class)\n",
        "\"\"\"\n",
        "\n",
        "# Ejecutar la consulta usando exec()\n",
        "exec(query)"
      ]
    },
    {
      "cell_type": "code",
      "source": [],
      "metadata": {
        "id": "Lr3m9r-rQ9Iw"
      },
      "execution_count": null,
      "outputs": []
    },
    {
      "cell_type": "code",
      "source": [
        "query2 = \"\"\"\n",
        "# prompt: quiero filtrar df data solo para pasajeros mayores a 30 años\n",
        "\n",
        "df_mayores_30 = df[df['Age'] > 30]\n",
        "print(df_mayores_30.head())\n",
        "\"\"\"\n",
        "exec(query2)"
      ],
      "metadata": {
        "id": "2QZfBZ-FRErz",
        "outputId": "48fbc267-5f49-4b02-813e-ce45f43e1326",
        "colab": {
          "base_uri": "https://localhost:8080/"
        }
      },
      "execution_count": 5,
      "outputs": [
        {
          "output_type": "stream",
          "name": "stdout",
          "text": [
            "    PassengerId  Survived  Pclass  \\\n",
            "1             2         1       1   \n",
            "3             4         1       1   \n",
            "4             5         0       3   \n",
            "6             7         0       1   \n",
            "11           12         1       1   \n",
            "\n",
            "                                                 Name     Sex   Age  SibSp  \\\n",
            "1   Cumings, Mrs. John Bradley (Florence Briggs Th...  female  38.0      1   \n",
            "3        Futrelle, Mrs. Jacques Heath (Lily May Peel)  female  35.0      1   \n",
            "4                            Allen, Mr. William Henry    male  35.0      0   \n",
            "6                             McCarthy, Mr. Timothy J    male  54.0      0   \n",
            "11                           Bonnell, Miss. Elizabeth  female  58.0      0   \n",
            "\n",
            "    Parch    Ticket     Fare Cabin Embarked  \n",
            "1       0  PC 17599  71.2833   C85        C  \n",
            "3       0    113803  53.1000  C123        S  \n",
            "4       0    373450   8.0500   NaN        S  \n",
            "6       0     17463  51.8625   E46        S  \n",
            "11      0    113783  26.5500  C103        S  \n"
          ]
        }
      ]
    }
  ]
}