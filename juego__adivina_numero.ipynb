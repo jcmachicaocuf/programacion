{
  "nbformat": 4,
  "nbformat_minor": 0,
  "metadata": {
    "colab": {
      "provenance": [],
      "authorship_tag": "ABX9TyMactBhcnqsbm+sHWJ7F40O",
      "include_colab_link": true
    },
    "kernelspec": {
      "name": "python3",
      "display_name": "Python 3"
    },
    "language_info": {
      "name": "python"
    }
  },
  "cells": [
    {
      "cell_type": "markdown",
      "metadata": {
        "id": "view-in-github",
        "colab_type": "text"
      },
      "source": [
        "<a href=\"https://colab.research.google.com/github/jcmachicaocuf/programacion/blob/main/juego__adivina_numero.ipynb\" target=\"_parent\"><img src=\"https://colab.research.google.com/assets/colab-badge.svg\" alt=\"Open In Colab\"/></a>"
      ]
    },
    {
      "cell_type": "markdown",
      "source": [
        "INICIO\n",
        "Generar un número secreto al azar entre 1 y 100\n",
        "Inicializar variable para contar los intentos en 0\n",
        "\n",
        "REPETIR hasta que el usuario adivine el número:\n",
        "    Pedir al usuario que escriba un número\n",
        "    Aumentar el contador de intentos\n",
        "\n",
        "    SI el número del usuario es menor que el número secreto:\n",
        "        Mostrar \"Demasiado bajo\"\n",
        "    SI el número del usuario es mayor que el número secreto:\n",
        "        Mostrar \"Demasiado alto\"\n",
        "    SI el número del usuario es igual al número secreto:\n",
        "        Mostrar \"¡Correcto!\"\n",
        "        Mostrar cuántos intentos tomó adivinarlo\n",
        "\n",
        "FIN"
      ],
      "metadata": {
        "id": "VP3vX3bdl2ej"
      }
    },
    {
      "cell_type": "code",
      "execution_count": 4,
      "metadata": {
        "colab": {
          "base_uri": "https://localhost:8080/"
        },
        "id": "Ue4-jFC4l0_w",
        "outputId": "17bb8014-9c81-4f95-e578-38276dd62c13"
      },
      "outputs": [
        {
          "output_type": "stream",
          "name": "stdout",
          "text": [
            "14\n"
          ]
        },
        {
          "output_type": "execute_result",
          "data": {
            "text/plain": [
              "0"
            ]
          },
          "metadata": {},
          "execution_count": 4
        }
      ],
      "source": [
        "# prompt: Cómo genero un número entero al azar entre 1 y 100?\n",
        "\n",
        "import random\n",
        "\n",
        "numero_secreto = random.randint(1, 100)\n",
        "intentos = 0\n",
        "\n",
        "print(numero_secreto)\n",
        "intentos"
      ]
    },
    {
      "cell_type": "code",
      "source": [
        "# prompt: Cómo calculo y le digo al usuario que su número es muy bajo?\n",
        "\n",
        "while True:\n",
        "    try:\n",
        "        numero_usuario = int(input(\"Adivina el número secreto (entre 1 y 100): \"))\n",
        "        intentos += 1\n",
        "\n",
        "        if numero_usuario < numero_secreto:\n",
        "            print(\"Demasiado bajo\")\n",
        "        elif numero_usuario > numero_secreto:\n",
        "            print(\"Demasiado alto\")\n",
        "        else:\n",
        "            print(\"¡Correcto!\")\n",
        "            print(f\"Te tomó {intentos} intentos adivinarlo.\")\n",
        "            break  # Salir del bucle cuando se adivina el número\n",
        "\n",
        "    except ValueError:\n",
        "        print(\"Entrada inválida. Por favor, ingresa un número entero.\")"
      ],
      "metadata": {
        "colab": {
          "base_uri": "https://localhost:8080/"
        },
        "id": "yNeuVOP1mUTf",
        "outputId": "762b6868-ec23-4ffa-d8d7-22ea695c20dd"
      },
      "execution_count": 5,
      "outputs": [
        {
          "output_type": "stream",
          "name": "stdout",
          "text": [
            "Adivina el número secreto (entre 1 y 100): 45\n",
            "Demasiado alto\n",
            "Adivina el número secreto (entre 1 y 100): 35\n",
            "Demasiado alto\n",
            "Adivina el número secreto (entre 1 y 100): 25\n",
            "Demasiado alto\n",
            "Adivina el número secreto (entre 1 y 100): 15\n",
            "Demasiado alto\n",
            "Adivina el número secreto (entre 1 y 100): 5\n",
            "Demasiado bajo\n",
            "Adivina el número secreto (entre 1 y 100): 10\n",
            "Demasiado bajo\n",
            "Adivina el número secreto (entre 1 y 100): 11\n",
            "Demasiado bajo\n",
            "Adivina el número secreto (entre 1 y 100): 12\n",
            "Demasiado bajo\n",
            "Adivina el número secreto (entre 1 y 100): 13\n",
            "Demasiado bajo\n",
            "Adivina el número secreto (entre 1 y 100): 14\n",
            "¡Correcto!\n",
            "Te tomó 10 intentos adivinarlo.\n"
          ]
        }
      ]
    }
  ]
}